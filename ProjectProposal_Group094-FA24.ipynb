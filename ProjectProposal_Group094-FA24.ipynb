{
 "cells": [
  {
   "cell_type": "markdown",
   "metadata": {},
   "source": [
    "# COGS 108 - Project Proposal"
   ]
  },
  {
   "cell_type": "markdown",
   "metadata": {},
   "source": [
    "# Names\n",
    "\n",
    "- Yuxiang Hong\n",
    "- Claire Gao\n",
    "- Milo Li\n",
    "- Thor\n",
    "- Erin Li\n",
    "- Wasp"
   ]
  },
  {
   "cell_type": "markdown",
   "metadata": {},
   "source": [
    "# Research Question"
   ]
  },
  {
   "cell_type": "markdown",
   "metadata": {},
   "source": [
    "How do variations in theta and beta EEG frequency band activity correlate with levels of student-reported confusion when viewing educational videos of differing complexity, and to what extent can these EEG patterns be used to predict confusion states in real time?\n",
    "\n"
   ]
  },
  {
   "cell_type": "markdown",
   "metadata": {},
   "source": [
    "## Background and Prior Work"
   ]
  },
  {
   "cell_type": "markdown",
   "metadata": {},
   "source": [
    "\n",
    "The rapid development of online education, particularly through Massive Open Online Courses (MOOCs), has opened up more opportunities for students worldwide to access a diverse range of study resources. However, unlike traditional classrooms that facilitate active interactions between instructors and students, online learning often lacks immediate feedback mechanisms. This limitation can make it difficult to identify and address moments of student confusion, which can hinder comprehension and motivation if left unresolved.\n",
    "\n",
    "To tackle this issue, recent research has explored the use of electroencephalography (EEG) technology to detect cognitive states such as confusion in online learning environments. In the paper *Using EEG to Improve Massive Open Online Courses Feedback Interaction*, Wang et al. conducted a pilot study investigating the potential of EEG-based methods for identifying confusion among students while viewing MOOC videos. During the study, EEG data was collected from students as they watched video clips designed to evoke varying levels of comprehension—from basic topics assumed to be clear for college students (e.g., introductory algebra) to more complex subjects (e.g., quantum mechanics and stem cell research). Using a single-channel EEG device, the researchers captured data on brain activity from the frontal lobe, a region associated with cognitive processing and emotional response. Afterward, students self-reported their confusion levels on a scale from 1 (least confusing) to 7 (most confusing), generating both predefined and self-reported labels of confusion. By training machine learning classifiers on the EEG data, the researchers demonstrated a moderate ability to distinguish between confusing and non-confusing experiences, achieving accuracies that, while limited, were above random chance and comparable to human observers interpreting student body language.<a name=\"cite_ref-1\"></a>[<sup>1</sup>](#cite_note-1) These findings suggest the feasibility of EEG technology as a tool for detecting confusion in educational settings, which could support more adaptive and responsive online learning environments.\n",
    "\n",
    "Our project builds upon Wang et al.'s foundational work by applying EEG data analysis to further understand and classify confusion states in students. Similar to their study design, we utilize a dataset containing EEG data collected from 10 college students while they engage with educational video clips that range from basic to complex topics. We analyze the average EEG signals with higher frequency data over every 0.5 seconds as students watch these videos, alongside their self-reported confusion ratings.\n",
    "\n",
    "Based on provious works, different brain wave frequencies are associated with different cognitive states (Kaushik et al). \n",
    "\n",
    "Theta Waves (4–8 Hz): Theta waves are often associated with memory formation, learning, and attention. Alpha Waves (8–13 Hz): Alpha waves are most commonly linked to relaxation and reduced attentional demands. Beta Waves (13–28 Hz): Beta waves are generally associated with active cognitive processing and engagement in problem-solving tasks.<a name=\"cite_ref-2\"></a>[<sup>2</sup>](#cite_note-2) Therefore,  By monitoring shifts in these frequency bands, we could potentially predict instances of confusion in real time, enabling insights into how students process and react to different educational stimuli.\n",
    "\n",
    "By analyzing this EEG recording data, our project aims to use students’ confusion score ratings to build machine learning models that accurately classify instances of student confusion. The insights gained could support the future development of applications in online education, such as real-time adaptive learning systems that adjust content based on student engagement and cognitive load. Ultimately, this project seeks to contribute to a more personalized and effective online learning experience, utilizing EEG data to bridge the feedback gap inherent in remote education.\n",
    "\n",
    "1. <a name=\"cite_note-1\"></a> [^](#cite_ref-1) Wang, H., Li, Y., Hu, X., Yang, Y., Meng, Z., & Chang, K. M. (2013, June). Using EEG to Improve Massive Open Online Courses Feedback Interaction. [Link to paper](https://www.cs.cmu.edu/~kkchang/paper/WangEtAl.2013.AIED.EEG-MOOC.pdf)\n",
    "2. <a name=\"cite_note-2\"></a> [^](#cite_ref-2) Kaushik, P., Moye, A., Vugt, M.v. et al. Decoding the cognitive states of attention and distraction in a real-life setting using EEG. Sci Rep 12, 20649 (2022). [Link to paper](https://doi.org/10.1038/s41598-022-24417-w)\n"
   ]
  },
  {
   "cell_type": "markdown",
   "metadata": {},
   "source": [
    "# Hypothesis\n"
   ]
  },
  {
   "cell_type": "markdown",
   "metadata": {},
   "source": [
    "\n",
    "Our project hypothesis is that by analyzing the timing and frequency of specific EEG bands, such as theta and beta waves, we can predict a student's confusion state while watching educational videos with varying levels of confusion. We expect that as students watch more challenging videos, the activity in certain EEG frequency bands (e.g., theta and beta) will increase significantly and correlate with their confusion scores, allowing us to accurately identify when a student is experiencing confusion.\n"
   ]
  },
  {
   "cell_type": "markdown",
   "metadata": {},
   "source": [
    "# Data"
   ]
  },
  {
   "cell_type": "markdown",
   "metadata": {},
   "source": [
    "The ideal dataset for investigating EEG patterns associated with student confusion would include detailed time-series data of theta and beta frequency bands collected while students watch videos of varying complexity. Our independent variable would be EEG frequency bands, including alpha wave, beta wave, gamma wave, etc and their corresponding sampling rate and timestamp of each measurement. The dependent variable would be students’ confusion scores.\n",
    "For the observations, the ideal number of students would be 100-200. There should be multiple sessions per student, covering different videos per session, ranging across difficulty levels.This data would ideally be stored in a time-series database with metadata linking EEG and video timestamps.\n",
    "\n",
    "This is a real dataset: Confused student EEG brainwave data. [Link to paper](https://www.kaggle.com/datasets/wanghaohan/confused-eeg?select=EEG_data.csv)\n",
    " This dataset includes EEG data from subjects experiencing confusion, which aligns with our hypothesis of examining theta and beta bands to identify confusion states. However, there are some differences between this dataset and our ideal dataset. ",
    "For example, while it captures EEG readings during confusion states, it may lack variables such as detailed video complexity ratings. Despite these differences, this dataset provides a valuable starting point, offering practical EEG data that can be analyzed to explore correlations between specific EEG bands and confusion, and can be complemented with additional data collection if needed."
    ]
  },
  {
   "cell_type": "markdown",
   "metadata": {},
   "source": [
    "# Ethics & Privacy"
   ]
  },
  {
   "cell_type": "markdown",
   "metadata": {},
   "source": [
   "Our group’s EEG data analysis project considers various ethical issues at each research stage.\n" 
   "During data preparation, we will critically assess how authentic the dataset represents the population, as EEG data can vary widely among individuals. Before using the data, we could check out the original data collection methods to ensure the consent and anonymity for the participants, and addressing risks of potential re-identification from EEG patterns.\n",
   "In the analysis phase, we have ethical concerns in the processes and bias for data. EEG data is highly sensitive to signal noise, so it requires careful prapration to avoid misinterpretating the data, which could lead to false conclusions on confusion levels. We will try our best to ensure analysis accuracy, to minimizing misleading our further discussion in educational interventions based on our results.\n",
   "We are also mindful of the societal implications. The misinterpretations of out result could impact students if used in educational tech, potentially leading to undue stress. Hence, our group commits to transparency in reporting and emphasizes the limitations of EEG-based assessments in real-world applications.\n",
   "EEG data we plan to use is from a diverse sample of students, which would ideally represent a range of cognitive states across different learning backgrounds. However, the real dataset we are analyzing includes a relatively small sample of students (from 10 colleges) which could lead to significant bias. The size and demographics of the sample may not enough to capture the diversity of cognitive responses to online learning. In details, different cultural, educational, or socioeconomic backgrounds may influence how students report and experience confusion, which is not adequately represented in the dataset. Our group could address this by acknowledging the limitations of our dataset’s sample size and participant diversity, and apply techniques to adjust for potential bias during analysis. Include stratify the results based on available demographic factors and discussing these limitations in our final report.\n",
   "To detect potential bias during the analysis, we split our dataset into each possible subgroup depending on the demographic factors to ensure that the model does not overfit to certain patterns of confusion. We would also consider incorporating additional available datasets to further refine the generalizability and stability of the model."
   ]
  },
  {
   "cell_type": "markdown",
   "metadata": {},
   "source": [
    "# Team Expectations "
   ]
  },
  {
   "cell_type": "markdown",
   "metadata": {},
   "source": [
    "\n",
    "Read over the [COGS108 Team Policies](https://github.com/COGS108/Projects/blob/master/COGS108_TeamPolicies.md) individually. Then, include your group’s expectations of one another for successful completion of your COGS108 project below. Discuss and agree on what all of your expectations are. Discuss how your team will communicate throughout the quarter and consider how you will communicate respectfully should conflicts arise. By including each member’s name above and by adding their name to the submission, you are indicating that you have read the COGS108 Team Policies, accept your team’s expectations below, and have every intention to fulfill them. These expectations are for your team’s use and benefit — they won’t be graded for their details.\n",
    "\n",
    "* *Team Expectation 1*\n",
    "* *Team Expectation 2*\n",
    "* *Team Expecation 3*\n",
    "* ..."
   ]
  },
  {
   "cell_type": "markdown",
   "metadata": {},
   "source": [
    "# Project Timeline Proposal"
   ]
  },
  {
   "cell_type": "markdown",
   "metadata": {},
   "source": [
    "Specify your team's specific project timeline. An example timeline has been provided. Changes the dates, times, names, and details to fit your group's plan.\n",
    "\n",
    "If you think you will need any special resources or training outside what we have covered in COGS 108 to solve your problem, then your proposal should state these clearly. For example, if you have selected a problem that involves implementing multiple neural networks, please state this so we can make sure you know what you’re doing and so we can point you to resources you will need to implement your project. Note that you are not required to use outside methods.\n",
    "\n",
    "\n",
    "\n",
    "| Meeting Date  | Meeting Time| Completed Before Meeting  | Discuss at Meeting |\n",
    "|---|---|---|---|\n",
    "| 1/20  |  1 PM | Read & Think about COGS 108 expectations; brainstorm topics/questions  | Determine best form of communication; Discuss and decide on final project topic; discuss hypothesis; begin background research | \n",
    "| 1/26  |  10 AM |  Do background research on topic | Discuss ideal dataset(s) and ethics; draft project proposal | \n",
    "| 2/1  | 10 AM  | Edit, finalize, and submit proposal; Search for datasets  | Discuss Wrangling and possible analytical approaches; Assign group members to lead each specific part   |\n",
    "| 2/14  | 6 PM  | Import & Wrangle Data (Ant Man); EDA (Hulk) | Review/Edit wrangling/EDA; Discuss Analysis Plan   |\n",
    "| 2/23  | 12 PM  | Finalize wrangling/EDA; Begin Analysis (Iron Man; Thor) | Discuss/edit Analysis; Complete project check-in |\n",
    "| 3/13  | 12 PM  | Complete analysis; Draft results/conclusion/discussion (Wasp)| Discuss/edit full project |\n",
    "| 3/20  | Before 11:59 PM  | NA | Turn in Final Project & Group Project Surveys |"
   ]
  }
 ],
 "metadata": {
  "kernelspec": {
   "display_name": "Python 3 (ipykernel)",
   "language": "python",
   "name": "python3"
  },
  "language_info": {
   "codemirror_mode": {
    "name": "ipython",
    "version": 3
   },
   "file_extension": ".py",
   "mimetype": "text/x-python",
   "name": "python",
   "nbconvert_exporter": "python",
   "pygments_lexer": "ipython3",
   "version": "3.9.7"
  }
 },
 "nbformat": 4,
 "nbformat_minor": 2
}
